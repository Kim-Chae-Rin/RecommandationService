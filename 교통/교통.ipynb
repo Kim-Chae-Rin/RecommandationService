{
 "cells": [
  {
   "cell_type": "markdown",
   "id": "ca3e5b33",
   "metadata": {},
   "source": [
    "# 좌표로 행정동 가져오기"
   ]
  },
  {
   "cell_type": "markdown",
   "id": "78154da0",
   "metadata": {},
   "source": [
    "## 버스 정류장"
   ]
  },
  {
   "cell_type": "code",
   "execution_count": 1,
   "id": "e62a77b3",
   "metadata": {},
   "outputs": [],
   "source": [
    "import pandas as pd\n",
    "import numpy as np\n",
    "import requests"
   ]
  },
  {
   "cell_type": "code",
   "execution_count": 14,
   "id": "10d65932",
   "metadata": {},
   "outputs": [
    {
     "data": {
      "text/html": [
       "<div>\n",
       "<style scoped>\n",
       "    .dataframe tbody tr th:only-of-type {\n",
       "        vertical-align: middle;\n",
       "    }\n",
       "\n",
       "    .dataframe tbody tr th {\n",
       "        vertical-align: top;\n",
       "    }\n",
       "\n",
       "    .dataframe thead th {\n",
       "        text-align: right;\n",
       "    }\n",
       "</style>\n",
       "<table border=\"1\" class=\"dataframe\">\n",
       "  <thead>\n",
       "    <tr style=\"text-align: right;\">\n",
       "      <th></th>\n",
       "      <th>node_id</th>\n",
       "      <th>ars_id</th>\n",
       "      <th>busstop_name</th>\n",
       "      <th>latitude</th>\n",
       "      <th>longitude</th>\n",
       "    </tr>\n",
       "  </thead>\n",
       "  <tbody>\n",
       "    <tr>\n",
       "      <th>0</th>\n",
       "      <td>100000001</td>\n",
       "      <td>1001</td>\n",
       "      <td>종로2가사거리</td>\n",
       "      <td>126.987786</td>\n",
       "      <td>37.569764</td>\n",
       "    </tr>\n",
       "    <tr>\n",
       "      <th>1</th>\n",
       "      <td>100000002</td>\n",
       "      <td>1002</td>\n",
       "      <td>창경궁.서울대학교병원</td>\n",
       "      <td>126.996520</td>\n",
       "      <td>37.579179</td>\n",
       "    </tr>\n",
       "    <tr>\n",
       "      <th>2</th>\n",
       "      <td>100000003</td>\n",
       "      <td>1003</td>\n",
       "      <td>명륜3가.성대입구</td>\n",
       "      <td>126.998290</td>\n",
       "      <td>37.582709</td>\n",
       "    </tr>\n",
       "    <tr>\n",
       "      <th>3</th>\n",
       "      <td>100000004</td>\n",
       "      <td>1004</td>\n",
       "      <td>종로2가.삼일교</td>\n",
       "      <td>126.987507</td>\n",
       "      <td>37.568582</td>\n",
       "    </tr>\n",
       "    <tr>\n",
       "      <th>4</th>\n",
       "      <td>100000005</td>\n",
       "      <td>1005</td>\n",
       "      <td>혜화동로터리.여운형활동터</td>\n",
       "      <td>127.001694</td>\n",
       "      <td>37.586230</td>\n",
       "    </tr>\n",
       "  </tbody>\n",
       "</table>\n",
       "</div>"
      ],
      "text/plain": [
       "     node_id  ars_id   busstop_name    latitude  longitude\n",
       "0  100000001    1001        종로2가사거리  126.987786  37.569764\n",
       "1  100000002    1002    창경궁.서울대학교병원  126.996520  37.579179\n",
       "2  100000003    1003      명륜3가.성대입구  126.998290  37.582709\n",
       "3  100000004    1004       종로2가.삼일교  126.987507  37.568582\n",
       "4  100000005    1005  혜화동로터리.여운형활동터  127.001694  37.586230"
      ]
     },
     "execution_count": 14,
     "metadata": {},
     "output_type": "execute_result"
    }
   ],
   "source": [
    "bus_stop = pd.read_csv('서울시버스정류소좌표데이터(2022.08.24).csv', encoding='CP949', names = ['node_id', 'ars_id', 'busstop_name', 'latitude', 'longitude' ], skiprows=1)\n",
    "bus_stop.head()"
   ]
  },
  {
   "cell_type": "code",
   "execution_count": 3,
   "id": "d25b33cc",
   "metadata": {},
   "outputs": [],
   "source": [
    "def juso(x) :\n",
    "    method = \"GET\"\n",
    "    url = \"https://dapi.kakao.com/v2/local/geo/coord2regioncode.json\"\n",
    "    params = {'x' : x['latitude'], 'y' : x['longitude']}\n",
    "    header = {'authorization': 'KakaoAK apikey', 'User-Agent': 'Mozilla/5.0 (Windows NT 10.0; Win64; x64) AppleWebKit/537.36 (KHTML, like Gecko) Chrome/107.0.0.0 Safari/537.36'}\n",
    "    \n",
    "    try :\n",
    "        response = requests.request(method=method, url=url, headers=header, params=params )\n",
    "        tokens = response.json()\n",
    "        x['gu_name'] = tokens['documents'][1]['region_2depth_name']\n",
    "        x['dong_name'] = tokens['documents'][1]['region_3depth_name']\n",
    "        x['full_name'] = tokens['documents'][1]['region_1depth_name']+' '+tokens['documents'][1]['region_2depth_name']+' '+tokens['documents'][1]['region_3depth_name']\n",
    "    except :\n",
    "        x['gu_name'] = ''\n",
    "        x['dong_name'] = ''\n",
    "        x['full_name'] = ''\n",
    "    return x"
   ]
  },
  {
   "cell_type": "code",
   "execution_count": 4,
   "id": "2e287246",
   "metadata": {},
   "outputs": [],
   "source": [
    "bus_stop = bus_stop.apply(juso, axis =1).drop(['node_id','ars_id'], axis=1)"
   ]
  },
  {
   "cell_type": "code",
   "execution_count": 5,
   "id": "bb2ad148",
   "metadata": {},
   "outputs": [
    {
     "data": {
      "text/html": [
       "<div>\n",
       "<style scoped>\n",
       "    .dataframe tbody tr th:only-of-type {\n",
       "        vertical-align: middle;\n",
       "    }\n",
       "\n",
       "    .dataframe tbody tr th {\n",
       "        vertical-align: top;\n",
       "    }\n",
       "\n",
       "    .dataframe thead th {\n",
       "        text-align: right;\n",
       "    }\n",
       "</style>\n",
       "<table border=\"1\" class=\"dataframe\">\n",
       "  <thead>\n",
       "    <tr style=\"text-align: right;\">\n",
       "      <th></th>\n",
       "      <th>busstop_name</th>\n",
       "      <th>latitude</th>\n",
       "      <th>longitude</th>\n",
       "      <th>gu_name</th>\n",
       "      <th>dong_name</th>\n",
       "      <th>full_name</th>\n",
       "    </tr>\n",
       "  </thead>\n",
       "  <tbody>\n",
       "    <tr>\n",
       "      <th>0</th>\n",
       "      <td>정류소명</td>\n",
       "      <td>좌표X</td>\n",
       "      <td>좌표Y</td>\n",
       "      <td></td>\n",
       "      <td></td>\n",
       "      <td></td>\n",
       "    </tr>\n",
       "    <tr>\n",
       "      <th>1</th>\n",
       "      <td>종로2가사거리</td>\n",
       "      <td>126.9877861534</td>\n",
       "      <td>37.5697641508</td>\n",
       "      <td>종로구</td>\n",
       "      <td>종로1.2.3.4가동</td>\n",
       "      <td>서울특별시 종로구 종로1.2.3.4가동</td>\n",
       "    </tr>\n",
       "    <tr>\n",
       "      <th>2</th>\n",
       "      <td>창경궁.서울대학교병원</td>\n",
       "      <td>126.9965201597</td>\n",
       "      <td>37.5791788583</td>\n",
       "      <td>종로구</td>\n",
       "      <td>종로1.2.3.4가동</td>\n",
       "      <td>서울특별시 종로구 종로1.2.3.4가동</td>\n",
       "    </tr>\n",
       "    <tr>\n",
       "      <th>3</th>\n",
       "      <td>명륜3가.성대입구</td>\n",
       "      <td>126.9982901625</td>\n",
       "      <td>37.5827088189</td>\n",
       "      <td>종로구</td>\n",
       "      <td>혜화동</td>\n",
       "      <td>서울특별시 종로구 혜화동</td>\n",
       "    </tr>\n",
       "    <tr>\n",
       "      <th>4</th>\n",
       "      <td>종로2가.삼일교</td>\n",
       "      <td>126.9875072018</td>\n",
       "      <td>37.5685822333</td>\n",
       "      <td>종로구</td>\n",
       "      <td>종로1.2.3.4가동</td>\n",
       "      <td>서울특별시 종로구 종로1.2.3.4가동</td>\n",
       "    </tr>\n",
       "  </tbody>\n",
       "</table>\n",
       "</div>"
      ],
      "text/plain": [
       "  busstop_name        latitude      longitude gu_name    dong_name  \\\n",
       "0         정류소명             좌표X            좌표Y                        \n",
       "1      종로2가사거리  126.9877861534  37.5697641508     종로구  종로1.2.3.4가동   \n",
       "2  창경궁.서울대학교병원  126.9965201597  37.5791788583     종로구  종로1.2.3.4가동   \n",
       "3    명륜3가.성대입구  126.9982901625  37.5827088189     종로구          혜화동   \n",
       "4     종로2가.삼일교  126.9875072018  37.5685822333     종로구  종로1.2.3.4가동   \n",
       "\n",
       "               full_name  \n",
       "0                         \n",
       "1  서울특별시 종로구 종로1.2.3.4가동  \n",
       "2  서울특별시 종로구 종로1.2.3.4가동  \n",
       "3          서울특별시 종로구 혜화동  \n",
       "4  서울특별시 종로구 종로1.2.3.4가동  "
      ]
     },
     "execution_count": 5,
     "metadata": {},
     "output_type": "execute_result"
    }
   ],
   "source": [
    "bus_stop.head()"
   ]
  },
  {
   "cell_type": "code",
   "execution_count": 6,
   "id": "58d034bf",
   "metadata": {},
   "outputs": [],
   "source": [
    "bus_stop = bus_stop[bus_stop['full_name'].str.contains('서울특별시')]"
   ]
  },
  {
   "cell_type": "code",
   "execution_count": 7,
   "id": "d4586948",
   "metadata": {},
   "outputs": [],
   "source": [
    "bus_stop.to_csv('버스 정류장 주소.csv', index=False, encoding='CP949')"
   ]
  },
  {
   "cell_type": "markdown",
   "id": "e0ed3fcf",
   "metadata": {},
   "source": [
    "## 지하철역"
   ]
  },
  {
   "cell_type": "code",
   "execution_count": 8,
   "id": "928e735a",
   "metadata": {},
   "outputs": [
    {
     "data": {
      "text/html": [
       "<div>\n",
       "<style scoped>\n",
       "    .dataframe tbody tr th:only-of-type {\n",
       "        vertical-align: middle;\n",
       "    }\n",
       "\n",
       "    .dataframe tbody tr th {\n",
       "        vertical-align: top;\n",
       "    }\n",
       "\n",
       "    .dataframe thead th {\n",
       "        text-align: right;\n",
       "    }\n",
       "</style>\n",
       "<table border=\"1\" class=\"dataframe\">\n",
       "  <thead>\n",
       "    <tr style=\"text-align: right;\">\n",
       "      <th></th>\n",
       "      <th>line</th>\n",
       "      <th>station_name</th>\n",
       "      <th>ID</th>\n",
       "      <th>longitude</th>\n",
       "      <th>latitude</th>\n",
       "    </tr>\n",
       "  </thead>\n",
       "  <tbody>\n",
       "    <tr>\n",
       "      <th>0</th>\n",
       "      <td>01호선</td>\n",
       "      <td>녹양</td>\n",
       "      <td>1908.0</td>\n",
       "      <td>37.759380</td>\n",
       "      <td>127.042292</td>\n",
       "    </tr>\n",
       "    <tr>\n",
       "      <th>1</th>\n",
       "      <td>01호선</td>\n",
       "      <td>남영</td>\n",
       "      <td>1002.0</td>\n",
       "      <td>37.541021</td>\n",
       "      <td>126.971300</td>\n",
       "    </tr>\n",
       "    <tr>\n",
       "      <th>2</th>\n",
       "      <td>01호선</td>\n",
       "      <td>용산</td>\n",
       "      <td>1003.0</td>\n",
       "      <td>37.529849</td>\n",
       "      <td>126.964561</td>\n",
       "    </tr>\n",
       "    <tr>\n",
       "      <th>3</th>\n",
       "      <td>01호선</td>\n",
       "      <td>노량진</td>\n",
       "      <td>1004.0</td>\n",
       "      <td>37.514219</td>\n",
       "      <td>126.942454</td>\n",
       "    </tr>\n",
       "    <tr>\n",
       "      <th>4</th>\n",
       "      <td>01호선</td>\n",
       "      <td>대방</td>\n",
       "      <td>1005.0</td>\n",
       "      <td>37.513342</td>\n",
       "      <td>126.926382</td>\n",
       "    </tr>\n",
       "  </tbody>\n",
       "</table>\n",
       "</div>"
      ],
      "text/plain": [
       "   line station_name      ID  longitude    latitude\n",
       "0  01호선           녹양  1908.0  37.759380  127.042292\n",
       "1  01호선           남영  1002.0  37.541021  126.971300\n",
       "2  01호선           용산  1003.0  37.529849  126.964561\n",
       "3  01호선          노량진  1004.0  37.514219  126.942454\n",
       "4  01호선           대방  1005.0  37.513342  126.926382"
      ]
     },
     "execution_count": 8,
     "metadata": {},
     "output_type": "execute_result"
    }
   ],
   "source": [
    "subway = pd.read_csv('station_coordinate.csv', names = ['line', 'station_name', 'ID', 'longitude', 'latitude'], skiprows=1, encoding='CP949')\n",
    "subway.head()"
   ]
  },
  {
   "cell_type": "code",
   "execution_count": 9,
   "id": "10617e46",
   "metadata": {},
   "outputs": [],
   "source": [
    "subway = subway.apply(juso, axis =1).drop(['ID'], axis=1)"
   ]
  },
  {
   "cell_type": "code",
   "execution_count": 10,
   "id": "76869bb5",
   "metadata": {},
   "outputs": [],
   "source": [
    "subway = subway[subway['full_name'].str.contains('서울특별시')]"
   ]
  },
  {
   "cell_type": "code",
   "execution_count": 11,
   "id": "a2ec93ca",
   "metadata": {},
   "outputs": [
    {
     "data": {
      "text/html": [
       "<div>\n",
       "<style scoped>\n",
       "    .dataframe tbody tr th:only-of-type {\n",
       "        vertical-align: middle;\n",
       "    }\n",
       "\n",
       "    .dataframe tbody tr th {\n",
       "        vertical-align: top;\n",
       "    }\n",
       "\n",
       "    .dataframe thead th {\n",
       "        text-align: right;\n",
       "    }\n",
       "</style>\n",
       "<table border=\"1\" class=\"dataframe\">\n",
       "  <thead>\n",
       "    <tr style=\"text-align: right;\">\n",
       "      <th></th>\n",
       "      <th>line</th>\n",
       "      <th>station_name</th>\n",
       "      <th>longitude</th>\n",
       "      <th>latitude</th>\n",
       "      <th>gu_name</th>\n",
       "      <th>dong_name</th>\n",
       "      <th>full_name</th>\n",
       "    </tr>\n",
       "  </thead>\n",
       "  <tbody>\n",
       "    <tr>\n",
       "      <th>1</th>\n",
       "      <td>01호선</td>\n",
       "      <td>남영</td>\n",
       "      <td>37.541021</td>\n",
       "      <td>126.971300</td>\n",
       "      <td>용산구</td>\n",
       "      <td>남영동</td>\n",
       "      <td>서울특별시 용산구 남영동</td>\n",
       "    </tr>\n",
       "    <tr>\n",
       "      <th>2</th>\n",
       "      <td>01호선</td>\n",
       "      <td>용산</td>\n",
       "      <td>37.529849</td>\n",
       "      <td>126.964561</td>\n",
       "      <td>용산구</td>\n",
       "      <td>한강로동</td>\n",
       "      <td>서울특별시 용산구 한강로동</td>\n",
       "    </tr>\n",
       "    <tr>\n",
       "      <th>3</th>\n",
       "      <td>01호선</td>\n",
       "      <td>노량진</td>\n",
       "      <td>37.514219</td>\n",
       "      <td>126.942454</td>\n",
       "      <td>동작구</td>\n",
       "      <td>노량진1동</td>\n",
       "      <td>서울특별시 동작구 노량진1동</td>\n",
       "    </tr>\n",
       "    <tr>\n",
       "      <th>4</th>\n",
       "      <td>01호선</td>\n",
       "      <td>대방</td>\n",
       "      <td>37.513342</td>\n",
       "      <td>126.926382</td>\n",
       "      <td>영등포구</td>\n",
       "      <td>신길7동</td>\n",
       "      <td>서울특별시 영등포구 신길7동</td>\n",
       "    </tr>\n",
       "    <tr>\n",
       "      <th>5</th>\n",
       "      <td>01호선</td>\n",
       "      <td>영등포</td>\n",
       "      <td>37.515504</td>\n",
       "      <td>126.907628</td>\n",
       "      <td>영등포구</td>\n",
       "      <td>영등포본동</td>\n",
       "      <td>서울특별시 영등포구 영등포본동</td>\n",
       "    </tr>\n",
       "  </tbody>\n",
       "</table>\n",
       "</div>"
      ],
      "text/plain": [
       "   line station_name  longitude    latitude gu_name dong_name  \\\n",
       "1  01호선           남영  37.541021  126.971300     용산구       남영동   \n",
       "2  01호선           용산  37.529849  126.964561     용산구      한강로동   \n",
       "3  01호선          노량진  37.514219  126.942454     동작구     노량진1동   \n",
       "4  01호선           대방  37.513342  126.926382    영등포구      신길7동   \n",
       "5  01호선          영등포  37.515504  126.907628    영등포구     영등포본동   \n",
       "\n",
       "          full_name  \n",
       "1     서울특별시 용산구 남영동  \n",
       "2    서울특별시 용산구 한강로동  \n",
       "3   서울특별시 동작구 노량진1동  \n",
       "4   서울특별시 영등포구 신길7동  \n",
       "5  서울특별시 영등포구 영등포본동  "
      ]
     },
     "execution_count": 11,
     "metadata": {},
     "output_type": "execute_result"
    }
   ],
   "source": [
    "subway.head()"
   ]
  },
  {
   "cell_type": "code",
   "execution_count": 12,
   "id": "69d1568b",
   "metadata": {},
   "outputs": [],
   "source": [
    "subway.to_csv('지하철역 주소.csv', index=False, encoding='CP949')"
   ]
  },
  {
   "cell_type": "code",
   "execution_count": null,
   "id": "aec7a4b6",
   "metadata": {},
   "outputs": [],
   "source": []
  }
 ],
 "metadata": {
  "kernelspec": {
   "display_name": "Python 3 (ipykernel)",
   "language": "python",
   "name": "python3"
  },
  "language_info": {
   "codemirror_mode": {
    "name": "ipython",
    "version": 3
   },
   "file_extension": ".py",
   "mimetype": "text/x-python",
   "name": "python",
   "nbconvert_exporter": "python",
   "pygments_lexer": "ipython3",
   "version": "3.9.12"
  }
 },
 "nbformat": 4,
 "nbformat_minor": 5
}
